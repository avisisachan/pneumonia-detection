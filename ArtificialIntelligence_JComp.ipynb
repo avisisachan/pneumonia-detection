{
 "cells": [
  {
   "cell_type": "code",
   "execution_count": 1,
   "id": "b50822ae",
   "metadata": {},
   "outputs": [],
   "source": [
    "import os\n",
    "os.environ['TF_CPP_MIN_LOG_LEVEL'] = \"3\"\n",
    "\n",
    "import tensorflow as tf\n",
    "from tensorflow import keras\n",
    "from keras import layers, Input, Sequential\n",
    "from keras.layers import Dense, Conv2D, MaxPool2D, Flatten\n",
    "from keras.preprocessing.image import ImageDataGenerator\n",
    "from keras.callbacks import EarlyStopping\n",
    "\n",
    "\n",
    "import seaborn as sns\n",
    "import matplotlib.pyplot as plt\n",
    "\n",
    "import numpy as np\n",
    "from sklearn.metrics import confusion_matrix"
   ]
  },
  {
   "cell_type": "code",
   "execution_count": 2,
   "id": "a6f7c32d",
   "metadata": {},
   "outputs": [],
   "source": [
    "# Make False to disable screen logs \n",
    "printLogs = True\n",
    "\n",
    "\n",
    "def output(text):\n",
    "    if printLogs:\n",
    "        print(\"-\"*50)\n",
    "        print(text)\n",
    "        print(\"-\"*50)"
   ]
  },
  {
   "cell_type": "code",
   "execution_count": 3,
   "id": "e28d2d74",
   "metadata": {},
   "outputs": [
    {
     "name": "stdout",
     "output_type": "stream",
     "text": [
      "--------------------------------------------------\n",
      "Main Dir: \t./pneumonia_xray_dataset\n",
      "Training Dir: \t./pneumonia_xray_dataset\\train\n",
      "Testing Dir: \t./pneumonia_xray_dataset\\test\n",
      "Validation Dir: ./pneumonia_xray_dataset\\val\n",
      "--------------------------------------------------\n"
     ]
    }
   ],
   "source": [
    "# mainDir is the main directory of the dataset\n",
    "\n",
    "mainDir = \"./pneumonia_xray_dataset\"\n",
    "\n",
    "trainDir = os.path.join(mainDir, \"train\")\n",
    "testDir = os.path.join(mainDir, \"test\")\n",
    "valDir = os.path.join(mainDir, \"val\")\n",
    "\n",
    "output(f\"Main Dir: \\t{mainDir}\\nTraining Dir: \\t{trainDir}\\nTesting Dir: \\t{testDir}\\nValidation Dir: {valDir}\")"
   ]
  },
  {
   "cell_type": "markdown",
   "id": "261f2a00",
   "metadata": {},
   "source": [
    "# Data Preprocessing\n"
   ]
  },
  {
   "cell_type": "code",
   "execution_count": 52,
   "id": "88d583ad",
   "metadata": {},
   "outputs": [],
   "source": [
    "# You can apply different \"Data Augmentation\" methods if needed.\n",
    "\n",
    "train_datagen = ImageDataGenerator(\n",
    "    rescale= 1./255,\n",
    "    # rotation_range= 20,\n",
    "    # width_shift_range= 0.2,\n",
    "    # height_shift_range= 0.2,\n",
    "    # zoom_range= 0.2,\n",
    "    horizontal_flip= True,\n",
    ")\n",
    "\n",
    "test_datagen = ImageDataGenerator(\n",
    "    rescale= 1./255\n",
    ")\n",
    "\n",
    "val_datagen = ImageDataGenerator(\n",
    "    rescale= 1./255\n",
    ")"
   ]
  },
  {
   "cell_type": "code",
   "execution_count": 53,
   "id": "873768a9",
   "metadata": {},
   "outputs": [
    {
     "name": "stdout",
     "output_type": "stream",
     "text": [
      "Found 9200 images belonging to 2 classes.\n",
      "Found 468 images belonging to 2 classes.\n",
      "Found 40 images belonging to 2 classes.\n"
     ]
    }
   ],
   "source": [
    "image_size = (300, 400)\n",
    "batch_size = 16\n",
    "\n",
    "\n",
    "\n",
    "train_dataset = train_datagen.flow_from_directory(\n",
    "    directory= trainDir,\n",
    "    target_size= image_size,\n",
    "    color_mode= \"grayscale\",\n",
    "    batch_size= batch_size,\n",
    "    class_mode= \"sparse\",\n",
    "    shuffle= True,\n",
    "    seed= 42,\n",
    "    interpolation= \"lanczos\",\n",
    "    \n",
    ")\n",
    "\n",
    "test_dataset = test_datagen.flow_from_directory(\n",
    "    directory= testDir,\n",
    "    target_size= image_size,\n",
    "    color_mode= \"grayscale\",\n",
    "    batch_size= batch_size,\n",
    "    class_mode= \"sparse\",\n",
    "    shuffle= False,\n",
    "    interpolation= \"lanczos\",\n",
    "\n",
    ")\n",
    "\n",
    "val_dataset = val_datagen.flow_from_directory(\n",
    "    directory= valDir,\n",
    "    target_size= image_size,\n",
    "    color_mode= \"grayscale\",\n",
    "    batch_size= batch_size,\n",
    "    class_mode= \"sparse\",\n",
    "    shuffle= True,\n",
    "    seed= 42,\n",
    "    interpolation= \"lanczos\",\n",
    "\n",
    ")"
   ]
  },
  {
   "cell_type": "markdown",
   "id": "a8f62554",
   "metadata": {},
   "source": [
    "# Model Architecture"
   ]
  },
  {
   "cell_type": "code",
   "execution_count": 7,
   "id": "45891af2",
   "metadata": {},
   "outputs": [
    {
     "name": "stdout",
     "output_type": "stream",
     "text": [
      "Model: \"sequential\"\n",
      "_________________________________________________________________\n",
      " Layer (type)                Output Shape              Param #   \n",
      "=================================================================\n",
      " conv2d (Conv2D)             (16, 298, 398, 32)        320       \n",
      "                                                                 \n",
      " max_pooling2d (MaxPooling2D  (16, 149, 199, 32)       0         \n",
      " )                                                               \n",
      "                                                                 \n",
      " conv2d_1 (Conv2D)           (16, 147, 197, 64)        18496     \n",
      "                                                                 \n",
      " max_pooling2d_1 (MaxPooling  (16, 73, 98, 64)         0         \n",
      " 2D)                                                             \n",
      "                                                                 \n",
      " conv2d_2 (Conv2D)           (16, 69, 94, 128)         204928    \n",
      "                                                                 \n",
      " max_pooling2d_2 (MaxPooling  (16, 34, 47, 128)        0         \n",
      " 2D)                                                             \n",
      "                                                                 \n",
      " conv2d_3 (Conv2D)           (16, 28, 41, 256)         1605888   \n",
      "                                                                 \n",
      " max_pooling2d_3 (MaxPooling  (16, 14, 20, 256)        0         \n",
      " 2D)                                                             \n",
      "                                                                 \n",
      " conv2d_4 (Conv2D)           (16, 6, 12, 512)          10617344  \n",
      "                                                                 \n",
      " max_pooling2d_4 (MaxPooling  (16, 3, 6, 512)          0         \n",
      " 2D)                                                             \n",
      "                                                                 \n",
      " flatten (Flatten)           (16, 9216)                0         \n",
      "                                                                 \n",
      " dense (Dense)               (16, 512)                 4719104   \n",
      "                                                                 \n",
      " dense_1 (Dense)             (16, 2)                   1026      \n",
      "                                                                 \n",
      "=================================================================\n",
      "Total params: 17,167,106\n",
      "Trainable params: 17,167,106\n",
      "Non-trainable params: 0\n",
      "_________________________________________________________________\n"
     ]
    }
   ],
   "source": [
    "model = Sequential([\n",
    "    Input(shape= train_dataset.image_shape, batch_size= batch_size),\n",
    "    \n",
    "    Conv2D(filters= 32, kernel_size= 3, activation= \"relu\"),\n",
    "    MaxPool2D(pool_size= 2, strides= 2),\n",
    "    \n",
    "    Conv2D(filters= 64, kernel_size= 3, activation= \"relu\"),\n",
    "    MaxPool2D(pool_size= 2, strides= 2),\n",
    "    \n",
    "    Conv2D(filters= 128, kernel_size= 5, activation= \"relu\"),\n",
    "    MaxPool2D(pool_size= 2, strides= 2),\n",
    "    \n",
    "    Conv2D(filters= 256, kernel_size= 7, activation= \"relu\"),\n",
    "    MaxPool2D(pool_size= 2, strides= 2),\n",
    "    \n",
    "    Conv2D(filters= 512, kernel_size= 9, activation= \"relu\"),\n",
    "    MaxPool2D(pool_size= 2, strides= 2),\n",
    "    \n",
    "    Flatten(),\n",
    "    Dense(512, activation= \"relu\"),\n",
    "\n",
    "    Dense(2, activation= \"softmax\")\n",
    "    \n",
    "    \n",
    "    \n",
    "    \n",
    "])\n",
    "model.summary()"
   ]
  },
  {
   "cell_type": "code",
   "execution_count": 8,
   "id": "7b2b683e",
   "metadata": {},
   "outputs": [
    {
     "name": "stdout",
     "output_type": "stream",
     "text": [
      "--------------------------------------------------\n",
      "Optimizer: \tAdam\n",
      "Loss Function: \tsparse_categorical_crossentropy\n",
      "--------------------------------------------------\n"
     ]
    }
   ],
   "source": [
    "model.compile(\n",
    "    optimizer=  keras.optimizers.Adam(),\n",
    "    loss=       keras.losses.SparseCategoricalCrossentropy(),\n",
    "    metrics=    [\"accuracy\"]\n",
    ")\n",
    "\n",
    "output(f\"Optimizer: \\t{model.optimizer.name}\\nLoss Function: \\t{model.loss.name}\")"
   ]
  },
  {
   "cell_type": "code",
   "execution_count": 4,
   "id": "1f837827",
   "metadata": {},
   "outputs": [
    {
     "name": "stdout",
     "output_type": "stream",
     "text": [
      "Model: \"sequential\"\n",
      "_________________________________________________________________\n",
      " Layer (type)                Output Shape              Param #   \n",
      "=================================================================\n",
      " vgg19 (Functional)          (None, 7, 7, 512)         20024384  \n",
      "                                                                 \n",
      " flatten (Flatten)           (None, 25088)             0         \n",
      "                                                                 \n",
      " dense (Dense)               (None, 512)               12845568  \n",
      "                                                                 \n",
      " dense_1 (Dense)             (None, 1)                 513       \n",
      "                                                                 \n",
      "=================================================================\n",
      "Total params: 32,870,465\n",
      "Trainable params: 32,870,465\n",
      "Non-trainable params: 0\n",
      "_________________________________________________________________\n"
     ]
    }
   ],
   "source": [
    "from tensorflow.keras.applications import VGG19\n",
    "from tensorflow.keras.models import Sequential\n",
    "from tensorflow.keras.layers import Flatten, Dense, Input\n",
    "from tensorflow.keras.optimizers import Adam\n",
    "\n",
    "# Instantiate the VGG19 model\n",
    "vgg19_model = VGG19(weights='imagenet', include_top=False, input_shape=(224, 224, 3))\n",
    "\n",
    "# Create a new Sequential model\n",
    "model2 = Sequential()\n",
    "\n",
    "# Add VGG19 as a layer to the new model\n",
    "model2.add(vgg19_model)\n",
    "\n",
    "# Flatten the output from VGG19\n",
    "model2.add(Flatten())\n",
    "\n",
    "# Add a custom dense layer for classification\n",
    "model2.add(Dense(512, activation='relu'))\n",
    "\n",
    "# Output layer for binary classification\n",
    "model2.add(Dense(1, activation='sigmoid'))\n",
    "\n",
    "# Compile the model\n",
    "model2.compile(\n",
    "    optimizer=Adam(learning_rate=0.001),  # Adjust the learning rate as needed\n",
    "    loss='binary_crossentropy',  # Binary cross-entropy loss for binary classification\n",
    "    metrics=['accuracy']\n",
    ")\n",
    "\n",
    "# Print a summary of the model\n",
    "model2.summary()\n"
   ]
  },
  {
   "cell_type": "markdown",
   "id": "e965551b",
   "metadata": {},
   "source": [
    "# Training\n"
   ]
  },
  {
   "cell_type": "code",
   "execution_count": 8,
   "id": "0e8f9764",
   "metadata": {
    "scrolled": false
   },
   "outputs": [
    {
     "name": "stdout",
     "output_type": "stream",
     "text": [
      "Epoch 1/5\n",
      "575/575 [==============================] - 2976s 5s/step - loss: 0.4824 - accuracy: 0.7508 - val_loss: 0.4182 - val_accuracy: 0.8750\n",
      "Epoch 2/5\n",
      "575/575 [==============================] - 2039s 4s/step - loss: 0.1581 - accuracy: 0.9424 - val_loss: 0.2040 - val_accuracy: 0.9250\n",
      "Epoch 3/5\n",
      "575/575 [==============================] - ETA: 0s - loss: 0.1282 - accuracy: 0.9532Restoring model weights from the end of the best epoch: 1.\n",
      "575/575 [==============================] - 2461s 4s/step - loss: 0.1282 - accuracy: 0.9532 - val_loss: 0.2591 - val_accuracy: 0.9000\n",
      "Epoch 3: early stopping\n"
     ]
    }
   ],
   "source": [
    "epochs = 5  # Decreased the number of epochs\n",
    "batch_size = 16  # Decreased the batch size\n",
    "\n",
    "early_stop = EarlyStopping(\n",
    "    monitor=\"val_loss\",\n",
    "    min_delta=0.3,  # Increased min_delta\n",
    "    patience=2,  # Reduced patience\n",
    "    verbose=1,\n",
    "    mode=\"min\",\n",
    "    restore_best_weights=True,\n",
    ")\n",
    "\n",
    "history = model.fit(\n",
    "    train_dataset,\n",
    "    validation_data=val_dataset,\n",
    "    epochs=epochs,\n",
    "    batch_size=batch_size,\n",
    "    callbacks=[early_stop]\n",
    ")\n"
   ]
  },
  {
   "cell_type": "markdown",
   "id": "9025b59a",
   "metadata": {},
   "source": [
    "# Image Preprocessing for VGG19"
   ]
  },
  {
   "cell_type": "code",
   "execution_count": 5,
   "id": "92877de5",
   "metadata": {},
   "outputs": [
    {
     "name": "stdout",
     "output_type": "stream",
     "text": [
      "Found 9200 images belonging to 2 classes.\n",
      "Found 468 images belonging to 2 classes.\n",
      "Found 40 images belonging to 2 classes.\n"
     ]
    }
   ],
   "source": [
    "from tensorflow.keras.preprocessing.image import ImageDataGenerator\n",
    "\n",
    "# Define image data generators for preprocessing\n",
    "datagen = ImageDataGenerator(\n",
    "    rescale=1.0/255,  # Rescale pixel values to the range [0, 1]\n",
    "    rotation_range=15,\n",
    "    width_shift_range=0.1,\n",
    "    height_shift_range=0.1,\n",
    "    horizontal_flip=True,\n",
    "    vertical_flip=False,\n",
    "    fill_mode='nearest'\n",
    ")\n",
    "\n",
    "image_size = (224, 224)  # Adjust the image size to match VGG19 input requirements\n",
    "batch_size = 16\n",
    "\n",
    "# Train dataset\n",
    "train_dataset2 = datagen.flow_from_directory(\n",
    "    directory= trainDir,  # Replace with your training data directory\n",
    "    target_size=image_size,\n",
    "    batch_size=batch_size,\n",
    "    class_mode='binary',  # Adjust class mode if needed\n",
    "    shuffle=True,\n",
    "    seed=42,\n",
    ")\n",
    "\n",
    "# Test dataset\n",
    "test_dataset2 = datagen.flow_from_directory(\n",
    "    directory= testDir,  # Replace with your test data directory\n",
    "    target_size=image_size,\n",
    "    batch_size=batch_size,\n",
    "    class_mode='binary',  # Adjust class mode if needed\n",
    "    shuffle=False,\n",
    ")\n",
    "\n",
    "# Validation dataset\n",
    "val_dataset2 = datagen.flow_from_directory(\n",
    "    directory=valDir,  # Replace with your validation data directory\n",
    "    target_size=image_size,\n",
    "    batch_size=batch_size,\n",
    "    class_mode='binary',  # Adjust class mode if needed\n",
    "    shuffle=True,\n",
    "    seed=42,\n",
    ")\n"
   ]
  },
  {
   "cell_type": "code",
   "execution_count": 1,
   "id": "bd87251b",
   "metadata": {},
   "outputs": [
    {
     "ename": "NameError",
     "evalue": "name 'model2' is not defined",
     "output_type": "error",
     "traceback": [
      "\u001b[1;31m---------------------------------------------------------------------------\u001b[0m",
      "\u001b[1;31mNameError\u001b[0m                                 Traceback (most recent call last)",
      "Cell \u001b[1;32mIn[1], line 14\u001b[0m\n\u001b[0;32m      7\u001b[0m early_stopping \u001b[38;5;241m=\u001b[39m EarlyStopping(\n\u001b[0;32m      8\u001b[0m     monitor\u001b[38;5;241m=\u001b[39m\u001b[38;5;124m'\u001b[39m\u001b[38;5;124mval_loss\u001b[39m\u001b[38;5;124m'\u001b[39m,  \u001b[38;5;66;03m# Monitor validation loss\u001b[39;00m\n\u001b[0;32m      9\u001b[0m     patience\u001b[38;5;241m=\u001b[39m\u001b[38;5;241m3\u001b[39m,          \u001b[38;5;66;03m# Number of epochs with no improvement after which training will be stopped\u001b[39;00m\n\u001b[0;32m     10\u001b[0m     restore_best_weights\u001b[38;5;241m=\u001b[39m\u001b[38;5;28;01mTrue\u001b[39;00m  \u001b[38;5;66;03m# Restore the best model weights\u001b[39;00m\n\u001b[0;32m     11\u001b[0m )\n\u001b[0;32m     13\u001b[0m \u001b[38;5;66;03m# Train the VGG19 model with early stopping\u001b[39;00m\n\u001b[1;32m---> 14\u001b[0m history2 \u001b[38;5;241m=\u001b[39m \u001b[43mmodel2\u001b[49m\u001b[38;5;241m.\u001b[39mfit(\n\u001b[0;32m     15\u001b[0m     train_dataset2,\n\u001b[0;32m     16\u001b[0m     validation_data\u001b[38;5;241m=\u001b[39mval_dataset2,\n\u001b[0;32m     17\u001b[0m     epochs\u001b[38;5;241m=\u001b[39mepochs,\n\u001b[0;32m     18\u001b[0m     batch_size\u001b[38;5;241m=\u001b[39mbatch_size,\n\u001b[0;32m     19\u001b[0m     callbacks\u001b[38;5;241m=\u001b[39m[early_stopping]  \u001b[38;5;66;03m# Pass the early stopping callback\u001b[39;00m\n\u001b[0;32m     20\u001b[0m )\n",
      "\u001b[1;31mNameError\u001b[0m: name 'model2' is not defined"
     ]
    }
   ],
   "source": [
    "from tensorflow.keras.callbacks import EarlyStopping\n",
    "\n",
    "epochs = 5  # Adjust the number of epochs as needed\n",
    "batch_size = 16\n",
    "\n",
    "# Define early stopping callback\n",
    "early_stopping = EarlyStopping(\n",
    "    monitor='val_loss',  # Monitor validation loss\n",
    "    patience=3,          # Number of epochs with no improvement after which training will be stopped\n",
    "    restore_best_weights=True  # Restore the best model weights\n",
    ")\n",
    "\n",
    "# Train the VGG19 model with early stopping\n",
    "history2 = model2.fit(\n",
    "    train_dataset2,\n",
    "    validation_data=val_dataset2,\n",
    "    epochs=epochs,\n",
    "    batch_size=batch_size,\n",
    "    callbacks=[early_stopping]  # Pass the early stopping callback\n",
    ")\n"
   ]
  },
  {
   "cell_type": "markdown",
   "id": "a62e9c8c",
   "metadata": {},
   "source": [
    "# Visualize parameters of Model"
   ]
  },
  {
   "cell_type": "code",
   "execution_count": 9,
   "id": "723db16a",
   "metadata": {},
   "outputs": [
    {
     "data": {
      "image/png": "[encoded data removed]",
      "text/plain": [
       "<Figure size 800x600 with 1 Axes>"
      ]
     },
     "metadata": {},
     "output_type": "display_data"
    },
    {
     "data": {
      "image/png": "[encoded data removed]",
      "text/plain": [
       "<Figure size 800x600 with 1 Axes>"
      ]
     },
     "metadata": {},
     "output_type": "display_data"
    }
   ],
   "source": [
    "# Plot the training and validation loss\n",
    "plt.figure(figsize=(8, 6))\n",
    "plt.plot(history.history['loss'], label='Training Loss')\n",
    "plt.plot(history.history['val_loss'], label='Validation Loss')\n",
    "plt.xlabel('Epoch')\n",
    "plt.ylabel('Loss')\n",
    "plt.legend()\n",
    "plt.title('Training and Validation Loss')\n",
    "plt.show()\n",
    "\n",
    "# Plot the training and validation accuracy\n",
    "plt.figure(figsize=(8, 6))\n",
    "plt.plot(history.history['accuracy'], label='Training Accuracy')\n",
    "plt.plot(history.history['val_accuracy'], label='Validation Accuracy')\n",
    "plt.xlabel('Epoch')\n",
    "plt.ylabel('Accuracy')\n",
    "plt.legend()\n",
    "plt.title('Training and Validation Accuracy')\n",
    "plt.show()"
   ]
  },
  {
   "cell_type": "markdown",
   "id": "87deef63",
   "metadata": {},
   "source": [
    "# Save the Model"
   ]
  },
  {
   "cell_type": "code",
   "execution_count": 13,
   "id": "028164ed",
   "metadata": {},
   "outputs": [
    {
     "name": "stderr",
     "output_type": "stream",
     "text": [
      "WARNING:absl:Found untraced functions such as _jit_compiled_convolution_op, _jit_compiled_convolution_op, _jit_compiled_convolution_op, _jit_compiled_convolution_op, _jit_compiled_convolution_op while saving (showing 5 of 6). These functions will not be directly callable after loading.\n"
     ]
    },
    {
     "name": "stdout",
     "output_type": "stream",
     "text": [
      "INFO:tensorflow:Assets written to: model-1\\assets\n"
     ]
    },
    {
     "name": "stderr",
     "output_type": "stream",
     "text": [
      "INFO:tensorflow:Assets written to: model-1\\assets\n"
     ]
    }
   ],
   "source": [
    "model_file = \"model-1\"\n",
    "# keras.models.save_model(model, model_file)\n",
    "\n",
    "model.save(model_file)"
   ]
  },
  {
   "cell_type": "markdown",
   "id": "5d885c3b",
   "metadata": {},
   "source": [
    "# Load the model"
   ]
  },
  {
   "cell_type": "code",
   "execution_count": 14,
   "id": "16964ba7",
   "metadata": {},
   "outputs": [],
   "source": [
    "model = keras.models.load_model(model_file)"
   ]
  },
  {
   "cell_type": "markdown",
   "id": "0d03788a",
   "metadata": {},
   "source": [
    "# Check the performance on Training data"
   ]
  },
  {
   "cell_type": "code",
   "execution_count": 15,
   "id": "a32b7358",
   "metadata": {},
   "outputs": [
    {
     "name": "stdout",
     "output_type": "stream",
     "text": [
      "575/575 [==============================] - 1942s 3s/step - loss: 0.2045 - accuracy: 0.9164\n",
      "--------------------------------------------------\n",
      "Train loss: \t0.2\n",
      "Train Accuracy: 0.92\n",
      "--------------------------------------------------\n"
     ]
    }
   ],
   "source": [
    "train_loss, train_accuracy = model.evaluate(train_dataset)\n",
    "\n",
    "output(f\"Train loss: \\t{round(train_loss, 2)}\\nTrain Accuracy: {round(train_accuracy, 2)}\")"
   ]
  },
  {
   "cell_type": "markdown",
   "id": "8b098c0c",
   "metadata": {},
   "source": [
    "# Check the performance on Test data"
   ]
  },
  {
   "cell_type": "code",
   "execution_count": 16,
   "id": "a33e6a23",
   "metadata": {},
   "outputs": [
    {
     "name": "stdout",
     "output_type": "stream",
     "text": [
      "30/30 [==============================] - 90s 3s/step - loss: 0.6247 - accuracy: 0.7201\n",
      "--------------------------------------------------\n",
      "Test loss: \t0.62\n",
      "Test Accuracy: \t0.72\n",
      "--------------------------------------------------\n"
     ]
    }
   ],
   "source": [
    "test_loss, test_accuracy = model.evaluate(test_dataset)\n",
    "\n",
    "\n",
    "output(f\"Test loss: \\t{round(test_loss, 2)}\\nTest Accuracy: \\t{round(test_accuracy, 2)}\")"
   ]
  },
  {
   "cell_type": "markdown",
   "id": "57c96a47",
   "metadata": {},
   "source": [
    "# Check the performance on Validation data"
   ]
  },
  {
   "cell_type": "code",
   "execution_count": 17,
   "id": "51e0d5d5",
   "metadata": {},
   "outputs": [
    {
     "name": "stdout",
     "output_type": "stream",
     "text": [
      "575/575 [==============================] - 1793s 3s/step - loss: 0.2027 - accuracy: 0.9171\n",
      "--------------------------------------------------\n",
      "Validation loss: \t0.2\n",
      "Validation Accuracy: \t0.92\n",
      "--------------------------------------------------\n"
     ]
    }
   ],
   "source": [
    "val_loss, val_accuracy = model.evaluate(train_dataset)\n",
    "\n",
    "\n",
    "output(f\"Validation loss: \\t{round(val_loss, 2)}\\nValidation Accuracy: \\t{round(val_accuracy, 2)}\")"
   ]
  },
  {
   "cell_type": "markdown",
   "id": "520fdba9",
   "metadata": {},
   "source": [
    "# Visualize Testing performance"
   ]
  },
  {
   "cell_type": "code",
   "execution_count": 18,
   "id": "69c0cd82",
   "metadata": {},
   "outputs": [
    {
     "name": "stdout",
     "output_type": "stream",
     "text": [
      "30/30 [==============================] - 88s 3s/step\n"
     ]
    }
   ],
   "source": [
    "x = np.arange(len(test_dataset.classes))\n",
    "y_real = test_dataset.classes\n",
    "y_pred = np.argmax(model.predict(test_dataset), axis=1)"
   ]
  },
  {
   "cell_type": "code",
   "execution_count": 19,
   "id": "37401203",
   "metadata": {},
   "outputs": [
    {
     "data": {
      "image/png": "[encoded data removed]",
      "text/plain": [
       "<Figure size 640x480 with 1 Axes>"
      ]
     },
     "metadata": {},
     "output_type": "display_data"
    }
   ],
   "source": [
    "plt.plot(x, y_real, \"ys\", label= \"Real Labels\", markersize=10)\n",
    "plt.plot(x, y_pred, \"rs\", label= \"Predicted Labels\", markersize=3)\n",
    "plt.legend()\n",
    "\n",
    "plt.xlabel(\"Data Points\")\n",
    "plt.ylabel(\"Labels\")\n",
    "plt.title(\"Real Labels vs Predicted Labels\")\n",
    "plt.show()"
   ]
  },
  {
   "cell_type": "markdown",
   "id": "44f30270",
   "metadata": {},
   "source": [
    "# Building a Confusion Matrix"
   ]
  },
  {
   "cell_type": "code",
   "execution_count": 20,
   "id": "fb0ae29e",
   "metadata": {},
   "outputs": [
    {
     "name": "stdout",
     "output_type": "stream",
     "text": [
      "--------------------------------------------------\n",
      "[[105 129]\n",
      " [  2 232]]\n",
      "--------------------------------------------------\n"
     ]
    }
   ],
   "source": [
    "cm = confusion_matrix(y_real, y_pred)\n",
    "output(cm)"
   ]
  },
  {
   "cell_type": "markdown",
   "id": "8d55b61f",
   "metadata": {},
   "source": [
    "# Visualize a Confusion Matrix"
   ]
  },
  {
   "cell_type": "code",
   "execution_count": 21,
   "id": "49e38380",
   "metadata": {},
   "outputs": [
    {
     "data": {
      "image/png": "[encoded data removed]",
      "text/plain": [
       "<Figure size 600x600 with 1 Axes>"
      ]
     },
     "metadata": {},
     "output_type": "display_data"
    }
   ],
   "source": [
    "class_names = [\"NORMAL\", \"PNEUMONIA\"]\n",
    "fontsize = 32\n",
    "\n",
    "plt.figure(figsize=(6, 6))\n",
    "sns.heatmap(cm, annot=True, fmt=\"d\", cmap=\"Oranges\", cbar=False,\n",
    "            xticklabels=class_names, yticklabels=class_names,\n",
    "            annot_kws={\"size\":fontsize})\n",
    "\n",
    "plt.xlabel(\"Predicted Labels\")\n",
    "plt.ylabel(\"True Labels\")\n",
    "plt.title(\"Confusion Matrix\")\n",
    "plt.show()"
   ]
  },
  {
   "cell_type": "markdown",
   "id": "82ff5929",
   "metadata": {},
   "source": [
    "# Visualize VGG19"
   ]
  },
  {
   "cell_type": "code",
   "execution_count": null,
   "id": "dddd66a1",
   "metadata": {},
   "outputs": [],
   "source": [
    "# Plot the training and validation loss\n",
    "plt.figure(figsize=(8, 6))\n",
    "plt.plot(history.history2['loss'], label='Training Loss')\n",
    "plt.plot(history.history2['val_loss'], label='Validation Loss')\n",
    "plt.xlabel('Epoch')\n",
    "plt.ylabel('Loss')\n",
    "plt.legend()\n",
    "plt.title('Training and Validation Loss')\n",
    "plt.show()\n",
    "\n",
    "# Plot the training and validation accuracy\n",
    "plt.figure(figsize=(8, 6))\n",
    "plt.plot(history.history2['accuracy'], label='Training Accuracy')\n",
    "plt.plot(history.history2['val_accuracy'], label='Validation Accuracy')\n",
    "plt.xlabel('Epoch')\n",
    "plt.ylabel('Accuracy')\n",
    "plt.legend()\n",
    "plt.title('Training and Validation Accuracy')\n",
    "plt.show()"
   ]
  },
  {
   "cell_type": "markdown",
   "id": "c1461ba9",
   "metadata": {},
   "source": [
    "# Check the performance on Training data"
   ]
  },
  {
   "cell_type": "code",
   "execution_count": null,
   "id": "c14e8528",
   "metadata": {},
   "outputs": [],
   "source": [
    "train_loss, train_accuracy = model2.evaluate(train_dataset)\n",
    "\n",
    "output(f\"Train loss: \\t{round(train_loss, 2)}\\nTrain Accuracy: {round(train_accuracy, 2)}\")"
   ]
  },
  {
   "cell_type": "markdown",
   "id": "576f32d7",
   "metadata": {},
   "source": [
    "# Check the performance on Test data"
   ]
  },
  {
   "cell_type": "code",
   "execution_count": null,
   "id": "ac75d74e",
   "metadata": {},
   "outputs": [],
   "source": [
    "test_loss, test_accuracy = model2.evaluate(test_dataset)\n",
    "\n",
    "\n",
    "output(f\"Test loss: \\t{round(test_loss, 2)}\\nTest Accuracy: \\t{round(test_accuracy, 2)}\")"
   ]
  },
  {
   "cell_type": "markdown",
   "id": "ee771360",
   "metadata": {},
   "source": [
    "# Check the performance on Validation data"
   ]
  },
  {
   "cell_type": "code",
   "execution_count": null,
   "id": "7f1de417",
   "metadata": {},
   "outputs": [],
   "source": [
    "val_loss, val_accuracy = model2.evaluate(train_dataset)\n",
    "\n",
    "\n",
    "output(f\"Validation loss: \\t{round(val_loss, 2)}\\nValidation Accuracy: \\t{round(val_accuracy, 2)}\")"
   ]
  },
  {
   "cell_type": "markdown",
   "id": "71bd0d4e",
   "metadata": {},
   "source": [
    "# Building a Confusion Matrix¶"
   ]
  },
  {
   "cell_type": "code",
   "execution_count": null,
   "id": "42ac9c45",
   "metadata": {},
   "outputs": [],
   "source": [
    "x = np.arange(len(test_dataset.classes))\n",
    "y_real = test_dataset.classes\n",
    "y_pred = np.argmax(model2.predict(test_dataset), axis=1)"
   ]
  },
  {
   "cell_type": "code",
   "execution_count": null,
   "id": "a25354ee",
   "metadata": {},
   "outputs": [],
   "source": [
    "cm = confusion_matrix(y_real, y_pred)\n",
    "class_names = [\"NORMAL\", \"PNEUMONIA\"]\n",
    "fontsize = 32\n",
    "\n",
    "plt.figure(figsize=(6, 6))\n",
    "sns.heatmap(cm, annot=True, fmt=\"d\", cmap=\"Oranges\", cbar=False,\n",
    "            xticklabels=class_names, yticklabels=class_names,\n",
    "            annot_kws={\"size\":fontsize})\n",
    "\n",
    "plt.xlabel(\"Predicted Labels\")\n",
    "plt.ylabel(\"True Labels\")\n",
    "plt.title(\"Confusion Matrix\")\n",
    "plt.show()"
   ]
  },
  {
   "cell_type": "code",
   "execution_count": null,
   "id": "74049001",
   "metadata": {},
   "outputs": [],
   "source": []
  }
 ],
 "metadata": {
  "kernelspec": {
   "display_name": "Python 3 (ipykernel)",
   "language": "python",
   "name": "python3"
  },
  "language_info": {
   "codemirror_mode": {
    "name": "ipython",
    "version": 3
   },
   "file_extension": ".py",
   "mimetype": "text/x-python",
   "name": "python",
   "nbconvert_exporter": "python",
   "pygments_lexer": "ipython3",
   "version": "3.10.9"
  }
 },
 "nbformat": 4,
 "nbformat_minor": 5
}
